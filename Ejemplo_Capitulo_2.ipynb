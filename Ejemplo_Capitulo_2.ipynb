{
  "nbformat": 4,
  "nbformat_minor": 0,
  "metadata": {
    "colab": {
      "name": "Ejemplo_Capitulo_2.ipynb",
      "provenance": [],
      "toc_visible": true
    },
    "kernelspec": {
      "name": "python3",
      "display_name": "Python 3"
    },
    "language_info": {
      "name": "python"
    }
  },
  "cells": [
    {
      "cell_type": "code",
      "metadata": {
        "id": "yooQZeFQ4FfC"
      },
      "source": [
        "pip install autokeras"
      ],
      "execution_count": null,
      "outputs": []
    },
    {
      "cell_type": "code",
      "metadata": {
        "id": "6psAO8UL7Ncg"
      },
      "source": [
        "import autokeras as ak\n",
        "import matplotlib.pyplot as plt\n",
        "import numpy as np\n",
        "import tensorflow as tf\n",
        "from tensorflow.keras.datasets import mnist"
      ],
      "execution_count": 3,
      "outputs": []
    },
    {
      "cell_type": "code",
      "metadata": {
        "id": "stFtLPe57cJ3"
      },
      "source": [
        "(x_train, y_train), (x_test, y_test) = mnist.load_data()\n",
        "print(x_train.shape)\n",
        "print(x_test.shape)"
      ],
      "execution_count": null,
      "outputs": []
    },
    {
      "cell_type": "code",
      "metadata": {
        "id": "t0-r9N1R7eut"
      },
      "source": [
        "fig = plt.figure()\n",
        "ax = fig.add_subplot(1, 2, 1)\n",
        "plt.imshow(x_train[1234])\n",
        "ax.set_title('Train sample')\n",
        "ax = fig.add_subplot(1, 2, 2)\n",
        "plt.imshow(x_test[1234])\n",
        "ax.set_title('Test sample')\n",
        "plt.show()"
      ],
      "execution_count": null,
      "outputs": []
    },
    {
      "cell_type": "code",
      "metadata": {
        "id": "BEtgWL8q7k8A"
      },
      "source": [
        "train_histogram = np.histogram(y_train)\n",
        "test_histogram = np.histogram(y_test)\n",
        "_, axs = plt.subplots(1, 2)\n",
        "axs[0].set_xticks(range(10))\n",
        "axs[0].bar(range(10), train_histogram[0])\n",
        "axs[0].set_title('Train dataset histogram')\n",
        "axs[1].set_xticks(range(10))\n",
        "axs[1].bar(range(10), test_histogram[0])\n",
        "axs[1].set_title('Test dataset histogram')\n",
        "plt.show()"
      ],
      "execution_count": null,
      "outputs": []
    },
    {
      "cell_type": "code",
      "metadata": {
        "id": "pjRZPRbD7nWD"
      },
      "source": [
        "clf = ak.ImageClassifier(\n",
        "    overwrite=True,\n",
        "    max_trials=1)\n",
        "\n",
        "clf.fit(x_train, y_train, epochs=20)"
      ],
      "execution_count": null,
      "outputs": []
    },
    {
      "cell_type": "code",
      "metadata": {
        "id": "_Ff5mVWU70HN"
      },
      "source": [
        "metrics = clf.evaluate(x_test, y_test)\n",
        "print(metrics)"
      ],
      "execution_count": null,
      "outputs": []
    },
    {
      "cell_type": "code",
      "metadata": {
        "id": "j0jf2nmL7z8X"
      },
      "source": [
        "fig = plt.figure()\n",
        "plt.imshow(x_test[1234])\n",
        "ax.set_title('Test sample')\n",
        "plt.show()"
      ],
      "execution_count": null,
      "outputs": []
    },
    {
      "cell_type": "code",
      "metadata": {
        "id": "guhsQF1m72DD"
      },
      "source": [
        "print(y_test[1234]) \n",
        "print(clf.predict(x_test[1234, None])) "
      ],
      "execution_count": null,
      "outputs": []
    },
    {
      "cell_type": "code",
      "metadata": {
        "id": "oa0lyAI67_ms"
      },
      "source": [
        "model = clf.export_model()\n",
        "model.summary()"
      ],
      "execution_count": null,
      "outputs": []
    },
    {
      "cell_type": "code",
      "metadata": {
        "id": "T3Gws_Ew8Clh"
      },
      "source": [
        "from tensorflow.keras.utils import plot_model\n",
        "plot_model(clf.export_model())"
      ],
      "execution_count": null,
      "outputs": []
    },
    {
      "cell_type": "code",
      "metadata": {
        "id": "1hYuKtl48Ezv"
      },
      "source": [
        "reg = ak.ImageRegressor(\n",
        "    overwrite=True,\n",
        "    max_trials=1)\n",
        "reg.fit(x_train, y_train, epochs=20)\n",
        "predicted_y = reg.predict(x_test)\n",
        "reg.evaluate(x_test, y_test)"
      ],
      "execution_count": null,
      "outputs": []
    },
    {
      "cell_type": "code",
      "metadata": {
        "id": "OI9wsCYI8MUm"
      },
      "source": [
        "predicted_y = reg.predict(x_test[:10])\n",
        "print(list(y_test[:10]))\n",
        "print([round(float(i)) for i in predicted_y])"
      ],
      "execution_count": null,
      "outputs": []
    },
    {
      "cell_type": "code",
      "metadata": {
        "id": "vo6B4lfg_EeK"
      },
      "source": [
        "fig = plt.figure()\n",
        "for i, v in enumerate(predicted_y):\n",
        "    ax = fig.add_subplot(2, 5, i+1)\n",
        "    ax.set_axis_off()\n",
        "    ax.set_title(round(float(v)))\n",
        "    plt.imshow(x_test[i])\n",
        "plt.show()"
      ],
      "execution_count": null,
      "outputs": []
    },
    {
      "cell_type": "code",
      "metadata": {
        "id": "BkHjzm3H_G2y"
      },
      "source": [
        "model = reg.export_model()\n",
        "model.summary()"
      ],
      "execution_count": null,
      "outputs": []
    },
    {
      "cell_type": "code",
      "metadata": {
        "id": "ZSlYvNiq_JQ0"
      },
      "source": [
        "from tensorflow.keras.utils import plot_model\n",
        "plot_model(reg.export_model())"
      ],
      "execution_count": null,
      "outputs": []
    }
  ]
}